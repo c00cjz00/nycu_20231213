{
 "cells": [
  {
   "cell_type": "markdown",
   "metadata": {
    "id": "A6EMFg6fTWei"
   },
   "source": [
    "## 實作案例: 請先切換kernel 於您新安裝的 kernel環境\n",
    "#### <span style=\"color:red\">Change to your image kernel:   Image_S_XXXXXXXXXXl</span>."
   ]
  },
  {
   "cell_type": "code",
   "execution_count": 18,
   "metadata": {
    "tags": []
   },
   "outputs": [],
   "source": [
    "# 初始環境設定\n",
    "import os\n",
    "from pathlib import Path\n",
    "HOME = str(Path.home())\n",
    "Add_Binarry_Path=HOME+'/.local/bin:/usr/ubuntu_bin'\n",
    "os.environ['PATH']=os.environ['PATH']+':'+Add_Binarry_Path"
   ]
  },
  {
   "cell_type": "markdown",
   "metadata": {},
   "source": [
    "## 安裝專屬套件 (光碟內沒有的套件)"
   ]
  },
  {
   "cell_type": "code",
   "execution_count": 19,
   "metadata": {
    "tags": []
   },
   "outputs": [],
   "source": [
    "!pip install pinecone-client langchain gdown PyPDF2 pypdf sentence_transformers -q"
   ]
  },
  {
   "cell_type": "code",
   "execution_count": 20,
   "metadata": {
    "id": "8U9ApDM1S_KW",
    "tags": []
   },
   "outputs": [],
   "source": [
    "# 01: Configure\n",
    "pdf_file='data/Medical_Chatbot.pdf'\n",
    "PINECONE_API_KEY=''\n",
    "PINECONE_API_ENV='gcp-starter'\n",
    "index_name=\"cjz-medical\"\n",
    "Embeddings_ID=\"/work/u00cjz00/slurm_jobs/github/models/embedding/all-MiniLM-L6-v2\""
   ]
  },
  {
   "cell_type": "code",
   "execution_count": 21,
   "metadata": {
    "id": "hdLyiMDExWx6",
    "tags": []
   },
   "outputs": [
    {
     "name": "stdout",
     "output_type": "stream",
     "text": [
      "Downloading...\n",
      "From (uriginal): https://drive.google.com/uc?id=1pUDgs3YMnlr8See8Rld3L1ZRiTeeOlMM\n",
      "From (redirected): https://drive.google.com/uc?id=1pUDgs3YMnlr8See8Rld3L1ZRiTeeOlMM&confirm=t&uuid=cf388cda-8569-4ccb-a0ef-b64ef7833118\n",
      "To: /work/g00cjz00/github/nycu_class2024/Medical_Chatbot.pdf\n",
      "100%|██████████████████████████████████████| 16.1M/16.1M [00:00<00:00, 22.3MB/s]\n"
     ]
    }
   ],
   "source": [
    "!gdown 1pUDgs3YMnlr8See8Rld3L1ZRiTeeOlMM\n",
    "#!mkdir pdfs\n",
    "#!gdown 1pUDgs3YMnlr8See8Rld3L1ZRiTeeOlMM -O pdfs/Medical_Chatbot.pdf"
   ]
  },
  {
   "cell_type": "code",
   "execution_count": 12,
   "metadata": {
    "id": "hv-tcVdLtUjM",
    "tags": []
   },
   "outputs": [],
   "source": [
    "# 02: Load LIBRARY\n",
    "from langchain.document_loaders import PyPDFLoader, DirectoryLoader\n",
    "from langchain.text_splitter import RecursiveCharacterTextSplitter\n",
    "from langchain.embeddings import HuggingFaceEmbeddings\n",
    "from langchain.vectorstores import Pinecone\n",
    "import pinecone"
   ]
  },
  {
   "cell_type": "code",
   "execution_count": 22,
   "metadata": {
    "id": "vSAic50itxgd",
    "tags": []
   },
   "outputs": [
    {
     "data": {
      "text/plain": [
       "[Document(page_content='', metadata={'source': 'data/Medical_Chatbot.pdf', 'page': 0}),\n",
       " Document(page_content='TheGALE\\nENCYCLOPEDIA\\nofMEDICINE\\nSECOND EDITION', metadata={'source': 'data/Medical_Chatbot.pdf', 'page': 1}),\n",
       " Document(page_content='TheGALE\\nENCYCLOPEDIA\\nofMEDICINE\\nSECOND EDITION\\nJACQUELINE L. LONGE, EDITOR\\nDEIRDRE S. BLANCHFIELD, ASSOCIATE EDITOR\\nVOLUME\\nA-B1', metadata={'source': 'data/Medical_Chatbot.pdf', 'page': 2}),\n",
       " Document(page_content='STAFF\\nJacqueline L. Longe, Project Editor\\nDeirdre S. Blanchfield, Associate Editor\\nChristine B. Jeryan, Managing Editor\\nDonna Olendorf, Senior Editor\\nStacey Blachford, Associate Editor\\nKate Kretschmann, Melissa C. McDade, Ryan\\nThomason, Assistant Editors\\nMark Springer, Technical Specialist\\nAndrea Lopeman, Programmer/Analyst\\nBarbara J. Yarrow, Manager, Imaging and Multimedia\\nContent\\nRobyn V . Young, Project Manager, Imaging and\\nMultimedia Content\\nDean Dauphinais, Senior Editor, Imaging and\\nMultimedia Content\\nKelly A. Quin, Editor, Imaging and Multimedia Content\\nLeitha Etheridge-Sims, Mary K. Grimes, Dave Oblender,\\nImage Catalogers\\nPamela A. Reed, Imaging Coordinator\\nRandy Bassett, Imaging Supervisor\\nRobert Duncan, Senior Imaging Specialist\\nDan Newell, Imaging Specialist\\nChristine O’Bryan, Graphic Specialist\\nMaria Franklin, Permissions Manager\\nMargaret A. Chamberlain, Permissions Specialist\\nMichelle DiMercurio, Senior Art Director\\nMike Logusz, Graphic Artist\\nMary Beth Trimper, Manager, Composition and\\nElectronic Prepress\\nEvi Seoud, Assistant Manager, Composition Purchasing\\nand Electronic Prepress\\nDorothy Maki, Manufacturing Manager\\nWendy Blurton, Senior Manufacturing SpecialistThe GALE\\nENCYCLOPEDIA\\nof MEDICINE\\nSECOND EDITIONSince this page cannot legibly accommodate all copyright notices, the\\nacknowledgments constitute an extension of the copyright notice.\\nWhile every effort has been made to ensure the reliability of the infor-\\nmation presented in this publication, the Gale Group neither guaranteesthe accuracy of the data contained herein nor assumes any responsibili-ty for errors, omissions or discrepancies. The Gale Group accepts nopayment for listing, and inclusion in the publication of any organiza-tion, agency, institution, publication, service, or individual does notimply endorsement of the editor or publisher. Errors brought to theattention of the publisher and verified to the satisfaction of the publish-er will be corrected in future editions.\\nThis book is printed on recycled paper that meets Environmental Pro-\\ntection Agency standards.\\nThe paper used in this publication meets the minimum requirements of\\nAmerican National Standard for Information Sciences-PermanencePaper for Printed Library Materials, ANSI Z39.48-1984.\\nThis publication is a creative work fully protected by all applicable\\ncopyright laws, as well as by misappropriation, trade secret, unfair com-petition, and other applicable laws. The authors and editor of this workhave added value to the underlying factual material herein through oneor more of the following: unique and original selection, coordination,expression, arrangement, and classification of the information.\\nGale Group and design is a trademark used herein under license.All rights to this publication will be vigorously defended.Copyright © 2002\\nGale Group27500 Drake RoadFarmington Hills, MI 48331-3535\\nAll rights reserved including the right of reproduction in whole or in\\npart in any form.\\nISBN 0-7876-5489-2 (set)\\n0-7876-5490-6 (V ol. 1)0-7876-5491-4 (V ol. 2)0-7876-5492-2 (V ol. 3)0-7876-5493-0 (V ol. 4)0-7876-5494-9 (V ol. 5)\\nPrinted in the United States of America\\n10 9 8 7 6 5 4 3 2 1\\nLibrary of Congress Cataloging-in-Publication Data\\nGale encyclopedia of medicine / Jacqueline L. Longe, editor;\\nDeirdre S. Blanchfield, associate editor — 2nd ed.\\np. cm.\\nIncludes bibliographical references and index.\\nContents: V ol. 1. A-B — v. 2. C-F — v. 3.G-M — v. 4. N-S — v. 5. T-Z.\\nISBN 0-7876-5489-2 (set: hardcover) — ISBN 0-7876-5490-6\\n(vol. 1) — ISBN 0-7876-5491-4 (vol. 2) — ISBN 0-7876-5492-2(vol. 3) — ISBN 0-7876-5493-0 (vol. 4) — ISBN 0-7876-5494-9(vol. 5)\\n1. Internal medicine—Encyclopedias. I. Longe, Jacqueline L. \\nII. Blanchfield, Deirdre S. III. Gale Research Company.\\nRC41.G35 2001\\n616’.003—dc21\\n2001051245', metadata={'source': 'data/Medical_Chatbot.pdf', 'page': 3}),\n",
       " Document(page_content='Introduction .................................................... ix\\nAdvisory Board .............................................. xi\\nContributors ................................................. xiii\\nEntries\\nVolume 1: A-B .............................................. 1\\nVolume 2: C-F .......................................... 625\\nVolume 3: G-M ....................................... 1375\\nVolume 4: N-S ........................................ 2307\\nVolume 5: T-Z ........................................ 3237\\nOrganizations ............................................ 3603\\nGeneral Index ............................................ 3625\\nGALE ENCYCLOPEDIA OF MEDICINE 2 VCONTENTS', metadata={'source': 'data/Medical_Chatbot.pdf', 'page': 4}),\n",
       " Document(page_content='The Gale Encyclopedia of Medicine 2 is a medical ref-\\nerence product designed to inform and educate readersabout a wide variety of disorders, conditions, treatments,and diagnostic tests. The Gale Group believes the productto be comprehensive, but not necessarily definitive. It isintended to supplement, not replace, consultation with aphysician or other healthcare practitioner. While the GaleGroup has made substantial efforts to provide informationthat is accurate, comprehensive, and up-to-date, the GaleGroup makes no representations or warranties of anykind, including without limitation, warranties of mer-\\nchantability or fitness for a particular purpose, nor does itguarantee the accuracy, comprehensiveness, or timelinessof the information contained in this product. Readersshould be aware that the universe of medical knowledgeis constantly growing and changing, and that differencesof medical opinion exist among authorities. Readers arealso advised to seek professional diagnosis and treatmentfor any medical condition, and to discuss informationobtained from this book with their health care provider.\\nGALE ENCYCLOPEDIA OF MEDICINE 2 VIIPLEASE READ—IMPORTANT INFORMATION', metadata={'source': 'data/Medical_Chatbot.pdf', 'page': 5}),\n",
       " Document(page_content='The Gale Encyclopedia of Medicine 2 (GEM2) is a\\none-stop source for medical information on nearly 1,700common medical disorders, conditions, tests, and treat-ments, including high-profile diseases such as AIDS,Alzheimer’s disease, cancer, and heart attack. This ency-clopedia avoids medical jargon and uses language thatlaypersons can understand, while still providing thor-ough coverage of each topic. The Gale Encyclopedia of\\nMedicine 2 fills a gap between basic consumer health\\nresources, such as single-volume family medical guides,and highly technical professional materials.\\nSCOPE\\nAlmost 1,700 full-length articles are included in the\\nGale Encyclopedia of Medicine 2 , including disorders/\\nconditions, tests/procedures, and treatments/therapies.Many common drugs are also covered, with generic drugnames appearing first and brand names following inparentheses, eg. acetaminophen (Tylenol). Throughoutthe Gale Encyclopedia of Medicine 2 , many prominent\\nindividuals are highlighted as sidebar biographies thataccompany the main topical essays. Articles follow astandardized format that provides information at aglance. Rubrics include:\\nDisorders/Conditions Tests/Treatments\\nDefinition Definition\\nDescription Purpose\\nCauses and symptoms Precautions\\nDiagnosis DescriptionTreatment Preparation\\nAlternative treatment Aftercare\\nPrognosis Risks\\nPrevention Normal/Abnormal results\\nResources ResourcesKey terms Key terms\\nIn recent years there has been a resurgence of interest\\nin holistic medicine that emphasizes the connectionbetween mind and body. Aimed at achieving and main-taining good health rather than just eliminating disease,this approach has come to be known as alternative medi-\\ncine. The Gale Encyclopedia of Medicine 2 includes a\\nnumber of essays on alternative therapies, ranging fromtraditional Chinese medicine to homeopathy and frommeditation to aromatherapy. In addition to full essays onalternative therapies, the encyclopedia features specificAlternative treatment sections for diseases and condi-\\ntions that may be helped by complementary therapies.\\nINCLUSION CRITERIA\\nA preliminary list of diseases, disorders, tests and treat-\\nments was compiled from a wide variety of sources,including professional medical guides and textbooks aswell as consumer guides and encyclopedias. The generaladvisory board, made up of public librarians, medicallibrarians and consumer health experts, evaluated the top-ics and made suggestions for inclusion. The list was sortedby category and sent to GEM2 medical advisors, certified\\nphysicians with various medical specialities, for review.Final selection of topics to include was made by the med-ical advisors in conjunction with the Gale Group editor.\\nABOUT THE CONTRIBUTORS\\nThe essays were compiled by experienced medical\\nwriters, including physicians, pharmacists, nurses, andother health care professionals. GEM2 medical advisors\\nreviewed the completed essays to insure that they areappropriate, up-to-date, and medically accurate.\\nHOW TO USE THIS BOOK\\nThe Gale Encyclopedia of Medicine 2 has been\\ndesigned with ready reference in mind.\\n• Straight alphabetical arrangement allows users to\\nlocate information quickly.\\n• Bold-faced terms function as print hyperlinks that\\npoint the reader to related entries in the encyclopedia.\\nGALE ENCYCLOPEDIA OF MEDICINE 2 IXINTRODUCTION', metadata={'source': 'data/Medical_Chatbot.pdf', 'page': 6}),\n",
       " Document(page_content='•Cross-references placed throughout the encyclopedia\\ndirect readers to where information on subjects with-out entries can be found. Synonyms are also cross-ref-erenced.\\n• A list of key terms are provided where appropriate to\\ndefine unfamiliar terms or concepts.\\n• Valuable contact information for organizations and\\nsupport groups is included with each entry. Theappendix contains an extensive list of organizationsarranged in alphabetical order.•Resources section directs users to additional sources\\nof medical information on a topic.\\n• A comprehensive general index allows users to easily\\ntarget detailed aspects of any topic, including Latinnames.\\nGRAPHICS\\nThe Gale Encyclopedia of Medicine 2 is enhanced\\nwith over 675 color images, including photos, charts,tables, and customized line drawings.\\nGALE ENCYCLOPEDIA OF MEDICINE 2 XIntroduction', metadata={'source': 'data/Medical_Chatbot.pdf', 'page': 7}),\n",
       " Document(page_content='MEDICAL ADVISORS\\nA. Richard Adrouny, M.D.,\\nF.A.C.P.\\nClinical Assistant Professor of\\nMedicine\\nDivision of OncologyStanford UniversityDirector of Medical OncologyCommunity Hospital of Los Gatos-\\nSaratoga\\nLos Gatos, CA\\nLaurie Barclay, M.D.\\nNeurological Consulting ServicesTampa, FL\\nKenneth J. Berniker, M.D.\\nAttending PhysicianEmergency DepartmentKaiser Permanente Medical CenterVallejo, CA\\nRosalyn Carson-DeWitt, M.D.\\nDurham, NC\\nRobin Dipasquale, N.D.\\nClinical FacultyBastyr UniversitySeattle, WA\\nFaye Fishman, D.O.\\nRandolph, NJ\\nJ. Gary Grant, M.D.\\nPacific Grove, CA\\nLaith F. Gulli, M.D.\\nM.Sc., M.Sc.(MedSci), MSA,\\nMsc.Psych., MRSNZ\\nFRSH, FRIPHH, FAIC, FZSDAPA, DABFC, DABCIConsultant Psychotherapist in\\nPrivate Practice\\nLathrup Village, MI\\nL. Anne Hirschel, D.D.S.\\nSouthfield, MI\\nLarry I. Lutwick M.D., F.A.C.P.\\nDirector, Infectious DiseasesV A Medical CenterBrooklyn, NY\\nIra Michelson, M.D., M.B.A.,\\nF.A.C.O.G.\\nPhysician and Clinical InstructorUniversity of MichiganAnn Arbor, MI\\nSusan Mockus, M.D.\\nScientific ConsultantSeattle, WA\\nRalph M. Myerson, M.D.,\\nF.A.C.P.\\nClinical Professor of MedicineMedical College of Pennsylvania–\\nHahnemann University\\nPhiladelphia, PA\\nRonald Pies, M.D.\\nClinical Professor of PsychiatryTufts UniversitySchool of MedicineBoston, MA\\nLecturer on Psychiatry\\nHarvard Medical SchoolCambridge, MA\\nLee A. Shratter, M.D.\\nStaff RadiologistThe Permanente Medical Group\\nRichmond, CA\\nAmy B. Tuteur, M.D.\\nSharon, MA\\nLIBRARIAN ADVISORS\\nMaureen O. Carleton, MLISMedical Reference SpecialistKing County Library SystemBellevue, WA\\nElizabeth Clewis Crim, MLS\\nCollection SpecialistPrince William Public Library, V A\\nValerie J. Lawrence, MLS\\nAssistant LibrarianWestern States Chiropractic\\nCollege\\nPortland, OR\\nBarbara J. O’Hara, MLS\\nAdult Services LibrarianFree Library of Philadelphia, PA\\nAlan M. Rees, MLS\\nProfessor EmeritusCase Western Reserve UniversityCleveland, OH\\nGALE ENCYCLOPEDIA OF MEDICINE 2 XIADVISORY BOARD\\nA number of experts in the library and medical communities provided invaluable assistance in the formulation of this ency-\\nclopedia. Our advisory board performed a myriad of duties, from defining the scope of coverage to reviewing individualentries for accuracy and accessibility. The editor would like to express her appreciation to them.', metadata={'source': 'data/Medical_Chatbot.pdf', 'page': 8}),\n",
       " Document(page_content='Margaret Alic, Ph.D.\\nScience WriterEastsound, WA\\nJanet Byron Anderson\\nLinguist/Language ConsultantRocky River, OH\\nLisa Andres, M.S., C.G.C.\\nCertified Genetic Counselor and\\nMedical Writer\\nSan Jose, CA\\nGreg Annussek\\nMedical Writer/EditorNew York, NY\\nBill Asenjo, M.S., C.R.C.\\nScience WriterIowa City, IA\\nSharon A. Aufox, M.S., C.G.C.\\nGenetic CounselorRockford Memorial HospitalRockford, IL\\nSandra Bain Cushman\\nMassage Therapist, Alexander\\nTechnique Practitioner\\nCharlottesville, V A\\nHoward Baker\\nMedical WriterNorth York, Ontario\\nLaurie Barclay, M.D.\\nNeurological Consulting Services\\nTampa, FL\\nJeanine Barone\\nNutritionist, Exercise PhysiologistNew York, NY\\nJulia R. Barrett\\nScience WriterMadison, WIDonald G. Barstow, R.N.\\nClincal Nurse SpecialistOklahoma City, OK\\nCarin Lea Beltz, M.S.\\nGenetic Counselor and Program\\nDirector\\nThe Center for Genetic CounselingIndianapolis, IN\\nLinda K. Bennington, C.N.S.\\nScience WriterVirginia Beach, V A\\nIssac R. Berniker\\nMedical WriterVallejo, CA\\nKathleen Berrisford, M.S.V .\\nScience Writer\\nBethanne Black\\nMedical WriterAtlanta, GA\\nJennifer Bowjanowski, M.S.,\\nC.G.C.\\nGenetic CounselorChildren’s Hospital OaklandOakland, CA\\nMichelle Q. Bosworth, M.S., C.G.C.\\nGenetic CounselorEugene, OR\\nBarbara Boughton\\nHealth and Medical WriterEl Cerrito, CA\\nCheryl Branche, M.D.\\nRetired General PractitionerJackson, MS\\nMichelle Lee Brandt\\nMedical WriterSan Francisco, CAMaury M. Breecher, Ph.D.\\nHealth Communicator/JournalistNorthport, AL\\nRuthan Brodsky\\nMedical WriterBloomfield Hills, MI\\nTom Brody, Ph.D.\\nScience WriterBerkeley, CA\\nLeonard C. Bruno, Ph.D.\\nMedical WriterChevy Chase, MD\\nDiane Calbrese\\nMedical Sciences and Technology\\nWriter\\nSilver Spring, Maryland\\nRichard H. Camer\\nEditorInternational Medical News GroupSilver Spring, MD\\nRosalyn Carson-DeWitt, M.D.\\nMedical WriterDurham, NC\\nLata Cherath, Ph.D.\\nScience Writing InternCancer Research InstituteNew York, NY\\nLinda Chrisman\\nMassage Therapist and EducatorOakland, CA\\nLisa Christenson, Ph.D.\\nScience WriterHamden, CT\\nGeoffrey N. Clark, D.V .M.\\nEditorCanine Sports Medicine UpdateNewmarket, NH\\nGALE ENCYCLOPEDIA OF MEDICINE 2 XIIICONTRIBUTORS', metadata={'source': 'data/Medical_Chatbot.pdf', 'page': 9})]"
      ]
     },
     "execution_count": 22,
     "metadata": {},
     "output_type": "execute_result"
    }
   ],
   "source": [
    "# 03: Locad PDF\n",
    "loader= PyPDFLoader(pdf_file)\n",
    "data=loader.load()\n",
    "data[0:10]  #PAGE"
   ]
  },
  {
   "cell_type": "code",
   "execution_count": 23,
   "metadata": {
    "id": "wO9u_yK3txrs",
    "tags": []
   },
   "outputs": [
    {
     "data": {
      "text/plain": [
       "[Document(page_content='which the technician classifies the different whiteblood cells by type as well as calculating the num-ber of each type. A WBC differential is necessary tocalculate the absolute CD4+ lymphocyte count.\\n• CD4+ count between 200-600 cells/mm\\n3: Every three\\nmonths.\\n• CD4+ count less than 200 cells/mm3: Every three months.\\nWhen the CD4+ count falls below 200 cells/mm3,\\nthe doctor will put the patient on a medication regimen toprotect him or her against opportunistic infections.', metadata={'source': 'data/Medical_Chatbot.pdf', 'page': 98}),\n",
       " Document(page_content='HIV VIRAL LOAD TESTS. Another type of blood test\\nfor monitoring AIDS patients is the viral load test. It sup-plements the CD4+ count, which can tell the doctor theextent of the patient’s loss of immune function, but notthe speed of HIV replication in the body. The viral loadtest is based on PCR techniques and can measure the\\nGALE ENCYCLOPEDIA OF MEDICINE 2 85AIDS testsGEM - 0001 to 0432 - A  10/22/03 1:41 PM  Page 85', metadata={'source': 'data/Medical_Chatbot.pdf', 'page': 98}),\n",
       " Document(page_content='number of copies of HIV nucleic acids. Successive test\\nresults for a given patient’s viral load are calculated on abase 10 logarithmic scale.\\nBETA2-MICROGLOBULIN ( /H92522M).Beta2-microglobulin\\nis a protein found on the surface of all human cells witha nucleus. It is released into the blood when a cell dies.Although rising blood levels of /H9252\\n2M are found in\\npatients with cancer and other serious diseases, a rising\\n/H92522M blood level can be used to measure the progression\\nof AIDS.', metadata={'source': 'data/Medical_Chatbot.pdf', 'page': 99}),\n",
       " Document(page_content='P24 ANTIGEN CAPTURE ASSAY. Found in the viral\\ncore of HIV , p24 is a protein that can be measured bythe ELISA technique. Doctors can use p24 assays tomeasure the antiviral activity of the patient’s medica-tions. In addition, the p24 assay is sometimes useful indetecting HIV infection before seroconversion. Howev-er, p24 is consistently present in only 25% of personsinfected with HIV .\\nGENOTYPIC DRUG RESISTANCE TEST. Genotypic', metadata={'source': 'data/Medical_Chatbot.pdf', 'page': 99}),\n",
       " Document(page_content='testing can help determine whether specific gene muta-tions, common in people with HIV , are causing drugresistance and drug failure. The test looks for specificgenetic mutations of within the virus that are known tocause resistance to certain drugs used in HIV treatment.For example the drug 3TC, also known as lamivudine(Epivir), is not effective against strains of HIV that havea mutation at a particular position on the reverse tran-scriptase protein—amino acid 184—known as M184V(M/L50478V ,', metadata={'source': 'data/Medical_Chatbot.pdf', 'page': 99}),\n",
       " Document(page_content='methionine to valine). So if the genotypic resis-', metadata={'source': 'data/Medical_Chatbot.pdf', 'page': 99}),\n",
       " Document(page_content='tance test shows a mutation at position M184V , it is like-ly that person is resistant to 3TC and not likely torespond to 3TC treatment. Genotypic tests are onlyeffective if the person is already taking antiviral medica-tion and if the viral load is greater than 1,000 copies permilliliter (mL) of blood. The cost of the test, usuallybetween $300 and $500, is usually now covered bymany insurance plans.\\nPHENOTYPIC DRUG RESISTANCE TESTING. Pheno-', metadata={'source': 'data/Medical_Chatbot.pdf', 'page': 99}),\n",
       " Document(page_content='typic testing directly measures the sensitivity of apatient’s HIV to particular drugs and drug combinations.To do this, it measures the concentration of a drugrequired to inhibit viral replication in the test tube. Thisis the same method used by researchers to determinewhether a drug might be effective against HIV beforeusing it in human clinical trials. Phenotypic testing is amore direct measurement of resistance than genotypictesting. Also, unlike genotypic testing, phenotypic test-ing does', metadata={'source': 'data/Medical_Chatbot.pdf', 'page': 99}),\n",
       " Document(page_content='not require a high viral load but it is recom-mended that persons already be taking antiretroviral', metadata={'source': 'data/Medical_Chatbot.pdf', 'page': 99}),\n",
       " Document(page_content='drugs . The cost is between $700 and $900 and is now\\ncovered by many insurance plans.AIDS serology in children\\nChildren born to HIV-infected mothers may acquire', metadata={'source': 'data/Medical_Chatbot.pdf', 'page': 99})]"
      ]
     },
     "execution_count": 23,
     "metadata": {},
     "output_type": "execute_result"
    }
   ],
   "source": [
    "# 04: Text splitter\n",
    "text_splitter=RecursiveCharacterTextSplitter(chunk_size=500, chunk_overlap=0)\n",
    "docs=text_splitter.split_documents(data)\n",
    "docs[1000:1010]  # CHUNK"
   ]
  },
  {
   "cell_type": "code",
   "execution_count": 24,
   "metadata": {
    "id": "hrxJlJcjtx3V",
    "tags": []
   },
   "outputs": [],
   "source": [
    "# 05: Embeddings 模型 384維度\n",
    "#embeddings=HuggingFaceEmbeddings(model_name='sentence-transformers/all-MiniLM-L6-v2')\n",
    "embeddings=HuggingFaceEmbeddings(model_name=Embeddings_ID)"
   ]
  },
  {
   "cell_type": "code",
   "execution_count": 25,
   "metadata": {
    "id": "T6N2kvD5u3W_",
    "tags": []
   },
   "outputs": [
    {
     "name": "stderr",
     "output_type": "stream",
     "text": [
      "\n",
      "KeyboardInterrupt\n",
      "\n"
     ]
    }
   ],
   "source": [
    "# 06: 儲存至 pinecone 向量資料庫\n",
    "pinecone.init(api_key=PINECONE_API_KEY, environment=PINECONE_API_ENV)\n",
    "docsearch = Pinecone.from_texts([t.page_content for t in docs], embeddings, index_name=index_name)"
   ]
  },
  {
   "cell_type": "code",
   "execution_count": null,
   "metadata": {
    "id": "fiCURyJNu3nA"
   },
   "outputs": [],
   "source": [
    "# 07. 向量驗證\n",
    "# 0.00100201822,-0.0879787,-0.0121345911,0.000141251716,-0.0305802971,-0.0635476932,-0.00554865832,0.0155437924,0.0310709625,-0.0551753715,-0.0272236336,0.0335728712,-0.0554190911,0.0753775463,-0.0810973197,0.0584557615,-0.0399320163,-0.0538939722,-0.0225356463,-0.0228182543,0.0983394831,-0.0244991,-0.0298304707,0.0355674885,0.0172437858,-0.0290708039,0.00247312849,-0.00694054458,0.00934407953,-0.00675766775,0.0333429798,-0.0124766016,-0.0394415967,0.0457644,-0.0280858278,-0.0427881218,-0.0202028789,-0.0481561273,-0.04873503,-0.0477370508,0.0865190178,-0.150480494,-0.059747465,0.0476341136,-0.0901464596,0.0377526321,-0.0655688867,-0.0507967845,-0.0195009783,0.00771954097,-0.0589987785,-0.047139097,-0.0696333125,0.0627996847,0.0106975567,0.0732211769,0.0296002813,-0.0103422487,0.0250978488,-0.13682501,-0.127584696,0.0958755761,-0.00386591605,-0.0296135414,0.0230881833,0.0138041703,-0.00896615628,-0.0221488737,0.0524216853,-0.0445768125,-0.0183927678,-0.00776625,0.0319657773,-0.00278262165,-0.0487341136,-0.0595503077,-0.0783658326,-0.00741075212,-0.0194750428,-0.0124614071,0.0757125393,0.0245649051,0.0455409102,0.0816792771,-0.0166955534,-0.00727742072,-0.0399827473,0.0791423321,-0.0169981532,0.0228592027,0.0322342776,0.0220089331,-0.0803845599,-0.0361780152,0.0310536,-0.0731141567,0.0447544456,-0.0957708806,0.0532552712,-0.0466087721,-0.0489482,0.0236297511,0.00609217,-0.00254002307,-0.049574744,0.0289640799,0.0697844326,0.0402957909,-0.0338448025,0.0117008,0.0293432549,-0.0149991047,0.0869607,-0.0211856663,0.0100638177,0.123417199,0.0284997802,0.0490373857,-0.0340036042,-0.0103725092,0.0208557956,0.0284522176,0.104265921,-0.0161122531,0.0369163714,0.163942218,0.021986492,2.20114697e-33,0.00960067566,0.00104967237,-0.033008378,0.0417723432,-0.00391326286,0.0338333957,0.0128404535,0.0195410717,0.0746719539,-0.0779181048,-0.0450207144,-0.0242992,-0.0512985587,0.0279173553,-0.0642742,-0.0334506929,0.0669692159,0.0240977444,-0.00223330781,0.0035340609,0.0273019671,-0.0420355089,0.00951039512,0.0369071253,-0.0114566712,0.0268442761,-0.0680790916,0.093645364,-0.0670209825,-0.0118308933,0.0512493029,0.0372889452,-0.097853452,-0.0900082737,0.000475601584,0.0852474943,0.0702580512,0.0604681596,0.0181875732,0.0353608802,0.107898802,-0.020102283,0.127937973,-0.0304531362,0.027359169,-0.0426012538,-0.18722938,0.0118591515,-0.0162597187,0.076915212,-0.0327949077,-0.0150794284,-0.012617101,-0.0486724563,-0.00720037147,0.0281194896,-0.00927174557,-0.035107743,-0.0114448303,0.0261171851,0.0657774,0.0287979208,0.0377273075,-0.0133055691,0.00259780418,0.0280126166,0.00226550736,-0.0329276361,-0.0624877959,0.0838453323,-0.0382638201,-0.0379554629,0.0931681395,-0.0650517717,-0.00807021186,-0.0411833301,-0.0181588605,-0.0337772,0.0340428054,-0.0515089966,0.0788559,-0.0139547503,0.0716609,0.0195527915,0.0879508853,-0.0486497842,-0.0261932295,-0.0284969099,-0.0803705305,-0.00554771116,-0.0485168546,-0.118322894,-0.00429766951,-0.0592155978,0.0616180934,-2.57615189e-33,0.180445179,-0.0680550337,0.00672602095,0.0606214851,0.0976018086,0.0191470161,0.0243674498,0.10021738,0.0316511653,0.0886515453,0.00493130693,0.0803146511,-0.0365655608,-0.112197742,0.0133931348,0.0129120192,0.0258666985,-0.0653172359,0.056789469,-0.00234458642,-0.0555559434,0.015143333,-0.0284009166,0.00808381476,-0.0171454232,-0.0544834659,0.0282964967,-0.0324391425,0.0100439508,-0.0575333796,-0.0442775898,-0.00380633702,-0.00157593749,-0.039747674,-0.0605684,0.0551547967,-0.00835766178,-0.0311399177,0.017943494,0.0311389938,0.0334365331,-0.0431456603,-0.00318896235,-0.0283167362,-0.0234446414,0.021555528,-0.0174043961,-0.0651953295,-0.0309972782,0.0215819106,0.0116195921,0.0315252058,-0.0388435684,0.065880917,-0.0112401992,-0.00884662755,0.00454388,0.0496965908,-0.0522938706,0.0579095632,-0.0414180905,0.058839906,-0.0032678633,-0.0225830115,-0.0216255095,-0.0107437922,-0.0165638831,0.0784634501,0.0633835346,-0.0326286033,0.0205901638,-0.0887152,-0.0118591497,0.0399153717,0.0173136983,-0.11658635,-0.0837596804,0.022702422,0.0342835672,-0.0765177086,-0.0364477895,-0.0388797484,-0.00506030722,0.0562029704,0.00842982344,0.00860879291,0.0440128632,0.00267004245,0.0113677988,-0.0444276184,0.0167592466,-0.0560447574,-0.0211058501,-0.0105939489,0.0526761524,-3.28363043e-8,-0.0394373201,-0.06284751,0.00941727869,0.114079416,0.0497311503,-0.00309879868,0.0341236,0.123353027,-0.0260487609,-0.0583149418,0.0293672904,-0.00690054428,0.0786150098,0.0166235138,0.0173619166,0.0679017529,0.00652776659,-0.0362875536,-0.0287146103,-0.0469377078,-0.0203419682,0.0336826481,-0.019795049,-0.0130497487,0.00362700527,0.0222900473,0.00331193884,0.0669610426,-0.10506095,-0.0362477191,0.0678471178,-0.00246920274,-0.0629017,0.031316936,0.0763968751,0.0349495336,0.03701986,-0.0240127575,0.0431582294,0.0214637164,-0.0396364108,-0.0612524934,0.0200236645,-0.0307636093,0.0193338394,0.0346818455,-0.0563787,0.0292163305,0.049440641,0.0346936919,0.0547613651,0.0251639839,-0.0485375375,-0.0115103517,0.00470818812,-0.013961493,0.0454141349,0.0281176493,0.0755603,-0.0431908332,0.140430063,0.0270475149,0.00777886901,-0.0391872264\n",
    "text=\"\"\"lase levels. The kidneys quickly move extra amylasefrom the blood into the urine. Urine levels rise six to 10hours after blood levels and stay high longer. Urine isusually collected throughout a 2- or 24-hour time period.Results are usually available the same day.\n",
    "Preparation\n",
    "In most cases, no special preparation is necessary for\"\"\"\n",
    "text\n",
    "embedded_query = embeddings.embed_query(text)\n",
    "print(embedded_query)"
   ]
  },
  {
   "cell_type": "code",
   "execution_count": null,
   "metadata": {
    "id": "Fs82RMPpu70P"
   },
   "outputs": [],
   "source": [
    "# 08. 向量搜尋\n",
    "# 0.00100201822,-0.0879787,-0.0121345911,0.000141251716,-0.0305802971,-0.0635476932,-0.00554865832,0.0155437924,0.0310709625,-0.0551753715,-0.0272236336,0.0335728712,-0.0554190911,0.0753775463,-0.0810973197,0.0584557615,-0.0399320163,-0.0538939722,-0.0225356463,-0.0228182543,0.0983394831,-0.0244991,-0.0298304707,0.0355674885,0.0172437858,-0.0290708039,0.00247312849,-0.00694054458,0.00934407953,-0.00675766775,0.0333429798,-0.0124766016,-0.0394415967,0.0457644,-0.0280858278,-0.0427881218,-0.0202028789,-0.0481561273,-0.04873503,-0.0477370508,0.0865190178,-0.150480494,-0.059747465,0.0476341136,-0.0901464596,0.0377526321,-0.0655688867,-0.0507967845,-0.0195009783,0.00771954097,-0.0589987785,-0.047139097,-0.0696333125,0.0627996847,0.0106975567,0.0732211769,0.0296002813,-0.0103422487,0.0250978488,-0.13682501,-0.127584696,0.0958755761,-0.00386591605,-0.0296135414,0.0230881833,0.0138041703,-0.00896615628,-0.0221488737,0.0524216853,-0.0445768125,-0.0183927678,-0.00776625,0.0319657773,-0.00278262165,-0.0487341136,-0.0595503077,-0.0783658326,-0.00741075212,-0.0194750428,-0.0124614071,0.0757125393,0.0245649051,0.0455409102,0.0816792771,-0.0166955534,-0.00727742072,-0.0399827473,0.0791423321,-0.0169981532,0.0228592027,0.0322342776,0.0220089331,-0.0803845599,-0.0361780152,0.0310536,-0.0731141567,0.0447544456,-0.0957708806,0.0532552712,-0.0466087721,-0.0489482,0.0236297511,0.00609217,-0.00254002307,-0.049574744,0.0289640799,0.0697844326,0.0402957909,-0.0338448025,0.0117008,0.0293432549,-0.0149991047,0.0869607,-0.0211856663,0.0100638177,0.123417199,0.0284997802,0.0490373857,-0.0340036042,-0.0103725092,0.0208557956,0.0284522176,0.104265921,-0.0161122531,0.0369163714,0.163942218,0.021986492,2.20114697e-33,0.00960067566,0.00104967237,-0.033008378,0.0417723432,-0.00391326286,0.0338333957,0.0128404535,0.0195410717,0.0746719539,-0.0779181048,-0.0450207144,-0.0242992,-0.0512985587,0.0279173553,-0.0642742,-0.0334506929,0.0669692159,0.0240977444,-0.00223330781,0.0035340609,0.0273019671,-0.0420355089,0.00951039512,0.0369071253,-0.0114566712,0.0268442761,-0.0680790916,0.093645364,-0.0670209825,-0.0118308933,0.0512493029,0.0372889452,-0.097853452,-0.0900082737,0.000475601584,0.0852474943,0.0702580512,0.0604681596,0.0181875732,0.0353608802,0.107898802,-0.020102283,0.127937973,-0.0304531362,0.027359169,-0.0426012538,-0.18722938,0.0118591515,-0.0162597187,0.076915212,-0.0327949077,-0.0150794284,-0.012617101,-0.0486724563,-0.00720037147,0.0281194896,-0.00927174557,-0.035107743,-0.0114448303,0.0261171851,0.0657774,0.0287979208,0.0377273075,-0.0133055691,0.00259780418,0.0280126166,0.00226550736,-0.0329276361,-0.0624877959,0.0838453323,-0.0382638201,-0.0379554629,0.0931681395,-0.0650517717,-0.00807021186,-0.0411833301,-0.0181588605,-0.0337772,0.0340428054,-0.0515089966,0.0788559,-0.0139547503,0.0716609,0.0195527915,0.0879508853,-0.0486497842,-0.0261932295,-0.0284969099,-0.0803705305,-0.00554771116,-0.0485168546,-0.118322894,-0.00429766951,-0.0592155978,0.0616180934,-2.57615189e-33,0.180445179,-0.0680550337,0.00672602095,0.0606214851,0.0976018086,0.0191470161,0.0243674498,0.10021738,0.0316511653,0.0886515453,0.00493130693,0.0803146511,-0.0365655608,-0.112197742,0.0133931348,0.0129120192,0.0258666985,-0.0653172359,0.056789469,-0.00234458642,-0.0555559434,0.015143333,-0.0284009166,0.00808381476,-0.0171454232,-0.0544834659,0.0282964967,-0.0324391425,0.0100439508,-0.0575333796,-0.0442775898,-0.00380633702,-0.00157593749,-0.039747674,-0.0605684,0.0551547967,-0.00835766178,-0.0311399177,0.017943494,0.0311389938,0.0334365331,-0.0431456603,-0.00318896235,-0.0283167362,-0.0234446414,0.021555528,-0.0174043961,-0.0651953295,-0.0309972782,0.0215819106,0.0116195921,0.0315252058,-0.0388435684,0.065880917,-0.0112401992,-0.00884662755,0.00454388,0.0496965908,-0.0522938706,0.0579095632,-0.0414180905,0.058839906,-0.0032678633,-0.0225830115,-0.0216255095,-0.0107437922,-0.0165638831,0.0784634501,0.0633835346,-0.0326286033,0.0205901638,-0.0887152,-0.0118591497,0.0399153717,0.0173136983,-0.11658635,-0.0837596804,0.022702422,0.0342835672,-0.0765177086,-0.0364477895,-0.0388797484,-0.00506030722,0.0562029704,0.00842982344,0.00860879291,0.0440128632,0.00267004245,0.0113677988,-0.0444276184,0.0167592466,-0.0560447574,-0.0211058501,-0.0105939489,0.0526761524,-3.28363043e-8,-0.0394373201,-0.06284751,0.00941727869,0.114079416,0.0497311503,-0.00309879868,0.0341236,0.123353027,-0.0260487609,-0.0583149418,0.0293672904,-0.00690054428,0.0786150098,0.0166235138,0.0173619166,0.0679017529,0.00652776659,-0.0362875536,-0.0287146103,-0.0469377078,-0.0203419682,0.0336826481,-0.019795049,-0.0130497487,0.00362700527,0.0222900473,0.00331193884,0.0669610426,-0.10506095,-0.0362477191,0.0678471178,-0.00246920274,-0.0629017,0.031316936,0.0763968751,0.0349495336,0.03701986,-0.0240127575,0.0431582294,0.0214637164,-0.0396364108,-0.0612524934,0.0200236645,-0.0307636093,0.0193338394,0.0346818455,-0.0563787,0.0292163305,0.049440641,0.0346936919,0.0547613651,0.0251639839,-0.0485375375,-0.0115103517,0.00470818812,-0.013961493,0.0454141349,0.0281176493,0.0755603,-0.0431908332,0.140430063,0.0270475149,0.00777886901,-0.0391872264\n",
    "text=f\"\"\"What are Allergies?\"\"\"\n",
    "text\n",
    "embedded_query = embeddings.embed_query(text)\n",
    "print(embedded_query)"
   ]
  },
  {
   "cell_type": "code",
   "execution_count": null,
   "metadata": {
    "id": "hJl6pQl0u8CK"
   },
   "outputs": [],
   "source": []
  },
  {
   "cell_type": "code",
   "execution_count": null,
   "metadata": {
    "id": "fKdRdCbhu8Nx"
   },
   "outputs": [],
   "source": []
  }
 ],
 "metadata": {
  "accelerator": "GPU",
  "colab": {
   "gpuType": "T4",
   "provenance": []
  },
  "kernelspec": {
   "display_name": "Image_S_work-case01_pytorch_2.1.0-cuda11.8-cudnn8-runtime_textgen",
   "language": "python",
   "name": "s_work-case01_pytorch_2.1.0-cuda11.8-cudnn8-runtime_textgen"
  },
  "language_info": {
   "codemirror_mode": {
    "name": "ipython",
    "version": 3
   },
   "file_extension": ".py",
   "mimetype": "text/x-python",
   "name": "python",
   "nbconvert_exporter": "python",
   "pygments_lexer": "ipython3",
   "version": "3.10.13"
  }
 },
 "nbformat": 4,
 "nbformat_minor": 4
}
