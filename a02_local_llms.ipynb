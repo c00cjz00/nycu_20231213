{
 "cells": [
  {
   "cell_type": "markdown",
   "metadata": {
    "id": "A6EMFg6fTWei"
   },
   "source": [
    "## 實作案例: 請先切換kernel 於您新安裝的 kernel環境\n",
    "#### <span style=\"color:red\">Change to your image kernel:   Image_S_XXXXXXXXXXl</span>."
   ]
  },
  {
   "cell_type": "code",
   "execution_count": 1,
   "metadata": {},
   "outputs": [],
   "source": [
    "# 初始環境設定\n",
    "import os\n",
    "from pathlib import Path\n",
    "HOME = str(Path.home())\n",
    "Add_Binarry_Path=HOME+'/.local/bin:/usr/ubuntu_bin'\n",
    "os.environ['PATH']=os.environ['PATH']+':'+Add_Binarry_Path"
   ]
  },
  {
   "cell_type": "markdown",
   "metadata": {},
   "source": [
    "## 安裝專屬套件 (光碟內沒有的套件)"
   ]
  },
  {
   "cell_type": "code",
   "execution_count": 6,
   "metadata": {
    "tags": []
   },
   "outputs": [],
   "source": [
    "# for IMAGE pytorch_2.1.0-cuda11.8-cudnn8-runtime_textgen, docker pull c00cjz00/pytorch:2.1.0-cuda11.8-cudnn8-runtime_textgen\n",
    "!pip install -q langchain transformers huggingface_hub hf_transfer accelerate optimum\n",
    "\n",
    "# FOR COLAB\n",
    "#!pip install auto-gptq --extra-index-url https://huggingface.github.io/autogptq-index/whl/cu118/  -q # Use cu117 if on CUDA 11.7"
   ]
  },
  {
   "cell_type": "markdown",
   "metadata": {},
   "source": [
    "## LOAD LIBRARY"
   ]
  },
  {
   "cell_type": "code",
   "execution_count": 7,
   "metadata": {
    "id": "8U9ApDM1S_KW"
   },
   "outputs": [],
   "source": [
    "# LOAD LIBRARY\n",
    "from torch import cuda, bfloat16, float16\n",
    "from langchain.chains import LLMChain, SimpleSequentialChain, RetrievalQA\n",
    "from langchain.llms.huggingface_pipeline import HuggingFacePipeline\n",
    "from langchain.prompts import PromptTemplate\n",
    "from transformers import AutoModelForCausalLM, AutoTokenizer, BitsAndBytesConfig, GenerationConfig, pipeline, TextStreamer"
   ]
  },
  {
   "cell_type": "markdown",
   "metadata": {},
   "source": [
    "## 下載模型"
   ]
  },
  {
   "cell_type": "code",
   "execution_count": 8,
   "metadata": {
    "id": "yxxlzaLHUo-T",
    "tags": []
   },
   "outputs": [
    {
     "name": "stderr",
     "output_type": "stream",
     "text": [
      "downloading https://huggingface.co/TheBloke/Llama-2-7B-Chat-GPTQ/resolve/d5ad9310836dd91b6ac6133e2e47f47394386cea/.gitattributes to /home/g00cjz00/.cache/huggingface/hub/tmpdvzb1vqe\n",
      ".gitattributes: 100%|██████████| 1.52k/1.52k [00:00<00:00, 5.61MB/s]\n",
      "downloading https://huggingface.co/TheBloke/Llama-2-7B-Chat-GPTQ/resolve/d5ad9310836dd91b6ac6133e2e47f47394386cea/LICENSE to /home/g00cjz00/.cache/huggingface/hub/tmps3k6mhgm\n",
      "LICENSE: 100%|██████████| 7.02k/7.02k [00:00<00:00, 28.1MB/s]\n",
      "downloading https://huggingface.co/TheBloke/Llama-2-7B-Chat-GPTQ/resolve/d5ad9310836dd91b6ac6133e2e47f47394386cea/Notice to /home/g00cjz00/.cache/huggingface/hub/tmppe1k77g1\n",
      "Notice: 100%|██████████| 112/112 [00:00<00:00, 452kB/s]\n",
      "downloading https://huggingface.co/TheBloke/Llama-2-7B-Chat-GPTQ/resolve/d5ad9310836dd91b6ac6133e2e47f47394386cea/README.md to /home/g00cjz00/.cache/huggingface/hub/tmpsx4688rj\n",
      "README.md: 100%|██████████| 25.0k/25.0k [00:00<00:00, 75.2MB/s]\n",
      "downloading https://huggingface.co/TheBloke/Llama-2-7B-Chat-GPTQ/resolve/d5ad9310836dd91b6ac6133e2e47f47394386cea/USE_POLICY.md to /home/g00cjz00/.cache/huggingface/hub/tmp50d448wl\n",
      "USE_POLICY.md: 100%|██████████| 4.77k/4.77k [00:00<00:00, 18.6MB/s]\n",
      "downloading https://huggingface.co/TheBloke/Llama-2-7B-Chat-GPTQ/resolve/d5ad9310836dd91b6ac6133e2e47f47394386cea/config.json to /home/g00cjz00/.cache/huggingface/hub/tmpmuqjipq1\n",
      "config.json: 100%|██████████| 789/789 [00:00<00:00, 3.18MB/s]\n",
      "downloading https://huggingface.co/TheBloke/Llama-2-7B-Chat-GPTQ/resolve/d5ad9310836dd91b6ac6133e2e47f47394386cea/generation_config.json to /home/g00cjz00/.cache/huggingface/hub/tmpwe88fhu0\n",
      "generation_config.json: 100%|██████████| 137/137 [00:00<00:00, 551kB/s]\n",
      "downloading https://huggingface.co/TheBloke/Llama-2-7B-Chat-GPTQ/resolve/d5ad9310836dd91b6ac6133e2e47f47394386cea/model.safetensors to /home/g00cjz00/.cache/huggingface/hub/tmpep5j5kxo\n",
      "model.safetensors: 100%|█████████▉| 3.90G/3.90G [00:24<00:00, 159MB/s] \n",
      "downloading https://huggingface.co/TheBloke/Llama-2-7B-Chat-GPTQ/resolve/d5ad9310836dd91b6ac6133e2e47f47394386cea/quantize_config.json to /home/g00cjz00/.cache/huggingface/hub/tmprg13_bg3\n",
      "quantize_config.json: 100%|██████████| 188/188 [00:00<00:00, 743kB/s]\n",
      "downloading https://huggingface.co/TheBloke/Llama-2-7B-Chat-GPTQ/resolve/d5ad9310836dd91b6ac6133e2e47f47394386cea/special_tokens_map.json to /home/g00cjz00/.cache/huggingface/hub/tmpsw0pyoij\n",
      "special_tokens_map.json: 100%|██████████| 411/411 [00:00<00:00, 1.64MB/s]\n",
      "downloading https://huggingface.co/TheBloke/Llama-2-7B-Chat-GPTQ/resolve/d5ad9310836dd91b6ac6133e2e47f47394386cea/tokenizer.json to /home/g00cjz00/.cache/huggingface/hub/tmpp_vohhfm\n",
      "tokenizer.json: 100%|██████████| 1.84M/1.84M [00:00<00:00, 1.88MB/s]\n",
      "downloading https://huggingface.co/TheBloke/Llama-2-7B-Chat-GPTQ/resolve/d5ad9310836dd91b6ac6133e2e47f47394386cea/tokenizer.model to /home/g00cjz00/.cache/huggingface/hub/tmpkpdfm06w\n",
      "tokenizer.model: 100%|██████████| 500k/500k [00:00<00:00, 648kB/s]\n",
      "downloading https://huggingface.co/TheBloke/Llama-2-7B-Chat-GPTQ/resolve/d5ad9310836dd91b6ac6133e2e47f47394386cea/tokenizer_config.json to /home/g00cjz00/.cache/huggingface/hub/tmpmtddsl8i\n",
      "tokenizer_config.json: 100%|██████████| 727/727 [00:00<00:00, 2.85MB/s]\n"
     ]
    },
    {
     "name": "stdout",
     "output_type": "stream",
     "text": [
      "/work/g00cjz00/github/nycu_class2024/Llama-7B-Chat-GPTQ\n"
     ]
    }
   ],
   "source": [
    "%%bash\n",
    "# Download model\n",
    "mkdir -p Llama-7B-Chat-GPTQ\n",
    "HF_HUB_ENABLE_HF_TRANSFER=1 huggingface-cli download TheBloke/Llama-2-7B-Chat-GPTQ --local-dir Llama-7B-Chat-GPTQ --local-dir-use-symlinks False"
   ]
  },
  {
   "cell_type": "markdown",
   "metadata": {},
   "source": [
    "## 主程式  (請特別關注 llm)"
   ]
  },
  {
   "cell_type": "code",
   "execution_count": 9,
   "metadata": {
    "id": "KJha7llxV33l"
   },
   "outputs": [],
   "source": [
    "from transformers import AutoModelForCausalLM, AutoTokenizer, pipeline\n",
    "\n",
    "MODEL_ID = \"/work/u00cjz00/slurm_jobs/github/models/Llama-2-7B-Chat-GPTQ\"\n",
    "model = AutoModelForCausalLM.from_pretrained(MODEL_ID, device_map=\"auto\")\n",
    "tokenizer = AutoTokenizer.from_pretrained(MODEL_ID, use_fast=True)\n",
    "\n",
    "pipe = pipeline(\n",
    "    \"text-generation\",\n",
    "    model=model,\n",
    "    tokenizer=tokenizer,\n",
    "    max_new_tokens=512,\n",
    "    do_sample=True,\n",
    "    temperature=0.7,\n",
    "    top_p=0.95,\n",
    "    top_k=40,\n",
    "    repetition_penalty=1.1\n",
    ")\n",
    "\n",
    "llm = HuggingFacePipeline(pipeline=pipe, model_kwargs={\"temperature\": 0})"
   ]
  },
  {
   "cell_type": "code",
   "execution_count": 10,
   "metadata": {
    "colab": {
     "base_uri": "https://localhost:8080/",
     "height": 71
    },
    "id": "xfsGaWT9W8WG",
    "outputId": "7cc3e620-9fe0-4301-f3a3-94858b67769d"
   },
   "outputs": [
    {
     "name": "stderr",
     "output_type": "stream",
     "text": [
      "/opt/conda/lib/python3.10/site-packages/transformers/generation/utils.py:1473: UserWarning: You have modified the pretrained model configuration to control generation. This is a deprecated strategy to control generation and will be removed soon, in a future version. Please use and modify the model generation configuration (see https://huggingface.co/docs/transformers/generation_strategies#default-text-generation-configuration )\n",
      "  warnings.warn(\n"
     ]
    },
    {
     "data": {
      "text/plain": [
       "'\\nChatGPT is a proprietary language model developed by Meta AI that is trained on a specific dataset and has been fine-tuned for a particular task (i.e., conversational AI). Open source LLMs, on the other hand, are publicly available models that can be used for a wide range of natural language processing tasks without any restrictions or fine-tuning requirements.\\nThe main advantage of using ChatGPT is its ability to generate human-like responses to user input, which is due to its extensive training on a large dataset of text from the internet. However, because it is a proprietary model, there may be limitations on how it can be used or customized for specific applications. In contrast, open source LLMs offer more flexibility and customization options since they are openly available and can be modified or extended by users to suit their needs.'"
      ]
     },
     "execution_count": 10,
     "metadata": {},
     "output_type": "execute_result"
    }
   ],
   "source": [
    "llm(\"Explain the difference between ChatGPT and open source LLMs in a couple of lines.\")"
   ]
  },
  {
   "cell_type": "code",
   "execution_count": 11,
   "metadata": {
    "id": "luTLJ1NlXEVm"
   },
   "outputs": [],
   "source": [
    "### Prompt Template\n",
    "prompt_template = '''\n",
    "<s>[INST] <<SYS>>\n",
    "You are a helpful, respectful and honest assistant. Always answer as helpfully as possible, while being safe.  Your answers should not include any harmful, unethical, racist, sexist, toxic, dangerous, or illegal content. Please ensure that your responses are socially unbiased and positive in nature. If a question does not make any sense, or is not factually coherent, explain why instead of answering something not correct. If you don't know the answer to a question, please don't share false information.\n",
    "<</SYS>>\n",
    "{question} [/INST]\n",
    "\n",
    "'''\n",
    "\n",
    "prompt = PromptTemplate(\n",
    "    input_variables=[\"question\"],\n",
    "    template=prompt_template,\n",
    ")"
   ]
  },
  {
   "cell_type": "code",
   "execution_count": 12,
   "metadata": {
    "colab": {
     "base_uri": "https://localhost:8080/"
    },
    "id": "74pXeVdzVliw",
    "outputId": "5e7bc74c-7bad-44b8-af97-354fbf0c605e"
   },
   "outputs": [
    {
     "name": "stdout",
     "output_type": "stream",
     "text": [
      "\n",
      "<s>[INST] <<SYS>>\n",
      "You are a helpful, respectful and honest assistant. Always answer as helpfully as possible, while being safe.  Your answers should not include any harmful, unethical, racist, sexist, toxic, dangerous, or illegal content. Please ensure that your responses are socially unbiased and positive in nature. If a question does not make any sense, or is not factually coherent, explain why instead of answering something not correct. If you don't know the answer to a question, please don't share false information.\n",
      "<</SYS>>\n",
      "Explain what are Deep Neural Networks in 2-3 sentences [/INST]\n",
      "\n",
      "\n"
     ]
    }
   ],
   "source": [
    "question = \"Explain what are Deep Neural Networks in 2-3 sentences\"\n",
    "print(prompt.format(question=question))"
   ]
  },
  {
   "cell_type": "code",
   "execution_count": 13,
   "metadata": {
    "colab": {
     "base_uri": "https://localhost:8080/",
     "height": 160
    },
    "id": "u9U4w7c6W-D5",
    "outputId": "9ac605df-74d4-4e22-f0b9-a3c0dd09693b"
   },
   "outputs": [
    {
     "data": {
      "text/plain": [
       "'Deep neural networks (DNNs) are a type of artificial neural network that use multiple layers of interconnected nodes or \"neurons\" to analyze and learn from complex data sets. These networks can be trained to perform various tasks such as image recognition, speech recognition, natural language processing, and more. DNNs are capable of learning hierarchical representations of data, allowing them to extract useful features and make accurate predictions or decisions.'"
      ]
     },
     "execution_count": 13,
     "metadata": {},
     "output_type": "execute_result"
    }
   ],
   "source": [
    "llm(prompt.format(question=question))"
   ]
  },
  {
   "cell_type": "code",
   "execution_count": 14,
   "metadata": {
    "id": "_fL7Xm-hWEco"
   },
   "outputs": [
    {
     "name": "stdout",
     "output_type": "stream",
     "text": [
      "Deep neural networks (DNNs) are a type of artificial neural network (ANN) that are composed of multiple layers of interconnected nodes or \"neurons.\" These networks are designed to mimic the structure and function of the human brain, with the ability to learn and represent complex patterns in data. DNNs have been shown to be highly effective at tasks such as image and speech recognition, natural language processing, and game playing, among others.\n"
     ]
    }
   ],
   "source": [
    "## Create Chain01\n",
    "from langchain.chains import LLMChain\n",
    "chain01 = LLMChain(llm=llm, prompt=prompt)\n",
    "result01 = chain01.run(question=question)\n",
    "print(result01.strip())"
   ]
  },
  {
   "cell_type": "code",
   "execution_count": 15,
   "metadata": {
    "colab": {
     "base_uri": "https://localhost:8080/"
    },
    "id": "3-X1HOzSWG-u",
    "outputId": "8d0154f0-27b0-4aa1-d975-27f1062f1315"
   },
   "outputs": [
    {
     "name": "stdout",
     "output_type": "stream",
     "text": [
      "<s>[INST] Use the summary Deep neural networks (DNNs) are a type of artificial neural network (ANN) that are composed of multiple layers of interconnected nodes or \"neurons.\" These networks are designed to mimic the structure and function of the human brain, with the ability to learn and represent complex patterns in data. DNNs have been shown to be highly effective at tasks such as image and speech recognition, natural language processing, and game playing, among others. and give 3 examples of practical applications with 1 sentence explaining each [/INST]\n",
      "Sure! Here are three examples of practical applications of deep neural networks:\n",
      "\n",
      "1. Image Recognition: Deep neural networks can be used to recognize objects within images, such as faces, animals, or vehicles, by learning patterns within the visual data. For example, a self-driving car could use a DNN to identify road signs and detect potential hazards on the road.\n",
      "2. Speech Recognition: Deep neural networks can be trained to transcribe spoken language into text, allowing for applications such as voice assistants like Siri or Alexa, or automated call centers. By analyzing audio recordings, these networks can accurately identify words and phrases spoken by humans.\n",
      "3. Natural Language Processing: Deep neural networks can process and generate human language, enabling applications such as chatbots, language translation software, or content generation engines. For instance, a DNN could be trained to write articles or respond to customer inquiries in a conversational tone.\n"
     ]
    }
   ],
   "source": [
    "## Create Chain02\n",
    "### Prompt Template for summary\n",
    "prompt_template = \"<s>[INST] Use the summary {summary} and give 3 examples of practical applications with 1 sentence explaining each [/INST]\"\n",
    "\n",
    "prompt02 = PromptTemplate(\n",
    "    input_variables=[\"summary\"],\n",
    "    template=prompt_template,\n",
    ")\n",
    "chain02 = LLMChain(llm=llm, prompt=prompt02)\n",
    "print(prompt02.format(summary=result01))\n",
    "result02 = chain02.run(result01)\n",
    "print(result02.strip())"
   ]
  },
  {
   "cell_type": "code",
   "execution_count": 16,
   "metadata": {
    "colab": {
     "base_uri": "https://localhost:8080/"
    },
    "id": "Td36DOpWWYJR",
    "outputId": "1d106681-6a6a-41cb-97f0-0631e0390fae"
   },
   "outputs": [
    {
     "name": "stdout",
     "output_type": "stream",
     "text": [
      "\n",
      "\n",
      "\u001b[1m> Entering new SimpleSequentialChain chain...\u001b[0m\n",
      "\u001b[36;1m\u001b[1;3mDeep neural networks (DNNs) are a type of machine learning model that use artificial neural networks to analyze and learn from data. They are designed to recognize patterns in complex data sets, such as images, speech, and text, by creating multiple layers of interconnected nodes that process and transform the input data. DNNs can be trained on large amounts of data to make predictions or classify objects based on their characteristics, and they have been used in a wide range of applications, including computer vision, natural language processing, and autonomous driving.\u001b[0m\n",
      "\u001b[33;1m\u001b[1;3m  Sure! Here is a summary of deep neural networks (DNNs), along with three examples of practical applications:\n",
      "Summary: Deep neural networks (DNNs) are a type of machine learning model that use artificial neural networks to analyze and learn from data. They are designed to recognize patterns in complex data sets, such as images, speech, and text, by creating multiple layers of interconnected nodes that process and transform the input data.\n",
      "Examples of Practical Applications:\n",
      "1. Computer Vision: DNNs are widely used in computer vision applications such as image classification, object detection, and image segmentation. For example, Google's Image Recognition API uses DNNs to recognize objects in images and provide relevant search results.\n",
      "2. Natural Language Processing: DNNs are also used extensively in natural language processing (NLP) tasks such as language translation, sentiment analysis, and text summarization. For instance, Google Translate uses DNNs to translate text from one language to another.\n",
      "3. Autonomous Driving: DNNs are being explored for autonomous driving applications such as lane detection, obstacle detection, and motion prediction. For example, Waymo's self-driving cars use DNNs to detect and respond to various road situations.\u001b[0m\n",
      "\n",
      "\u001b[1m> Finished chain.\u001b[0m\n",
      "Sure! Here is a summary of deep neural networks (DNNs), along with three examples of practical applications:\n",
      "Summary: Deep neural networks (DNNs) are a type of machine learning model that use artificial neural networks to analyze and learn from data. They are designed to recognize patterns in complex data sets, such as images, speech, and text, by creating multiple layers of interconnected nodes that process and transform the input data.\n",
      "Examples of Practical Applications:\n",
      "1. Computer Vision: DNNs are widely used in computer vision applications such as image classification, object detection, and image segmentation. For example, Google's Image Recognition API uses DNNs to recognize objects in images and provide relevant search results.\n",
      "2. Natural Language Processing: DNNs are also used extensively in natural language processing (NLP) tasks such as language translation, sentiment analysis, and text summarization. For instance, Google Translate uses DNNs to translate text from one language to another.\n",
      "3. Autonomous Driving: DNNs are being explored for autonomous driving applications such as lane detection, obstacle detection, and motion prediction. For example, Waymo's self-driving cars use DNNs to detect and respond to various road situations.\n"
     ]
    }
   ],
   "source": [
    "## Chaining Chains\n",
    "## multi_chain\n",
    "multi_chain = SimpleSequentialChain(chains=[chain01, chain02], verbose=True)\n",
    "result_mutiple = multi_chain.run(question)\n",
    "print(result_mutiple.strip())"
   ]
  },
  {
   "cell_type": "code",
   "execution_count": null,
   "metadata": {
    "colab": {
     "base_uri": "https://localhost:8080/"
    },
    "id": "61PI5raXYA23",
    "outputId": "b5d00d5d-86e0-45e7-bffc-ba3a975d39a1"
   },
   "outputs": [],
   "source": []
  },
  {
   "cell_type": "code",
   "execution_count": null,
   "metadata": {
    "id": "n4Xh3hwdYGgl"
   },
   "outputs": [],
   "source": []
  }
 ],
 "metadata": {
  "accelerator": "GPU",
  "colab": {
   "gpuType": "T4",
   "provenance": []
  },
  "kernelspec": {
   "display_name": "Image_S_work-case02_pytorch_2.1.0-cuda11.8-cudnn8-runtime_textgen",
   "language": "python",
   "name": "s_work-case02_pytorch_2.1.0-cuda11.8-cudnn8-runtime_textgen"
  },
  "language_info": {
   "codemirror_mode": {
    "name": "ipython",
    "version": 3
   },
   "file_extension": ".py",
   "mimetype": "text/x-python",
   "name": "python",
   "nbconvert_exporter": "python",
   "pygments_lexer": "ipython3",
   "version": "3.10.13"
  }
 },
 "nbformat": 4,
 "nbformat_minor": 4
}
